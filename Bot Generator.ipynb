{
 "cells": [
  {
   "cell_type": "code",
   "execution_count": 1,
   "metadata": {},
   "outputs": [],
   "source": [
    "from selenium import webdriver\n",
    "from selenium.webdriver.common import keys\n",
    "import time\n",
    "from selenium.common.exceptions import TimeoutException\n",
    "from selenium.webdriver.support.ui import WebDriverWait\n",
    "from selenium.webdriver.support import expected_conditions as EC"
   ]
  },
  {
   "cell_type": "code",
   "execution_count": null,
   "metadata": {},
   "outputs": [],
   "source": [
    "def InstaBot():\n",
    "    def __init__(self, password, email, name, username):\n",
    "        '''Password must be 6 chars long'''\n",
    "        home = 'https://www.google.com/'\n",
    "        Instagram = \"https://www.instagram.com/?hl=en\"\n",
    "        driver = webdriver.firefox.webdriver(executable_path=\"C:\\Desktop\\Web DriveHolder\\geckodriver.exe\") #Driver\n",
    "        position = \"initialized\"\n",
    "        \n",
    "        \n",
    "    def OpenBrowes(self):\n",
    "        driver.get(home)\n",
    "        time.sleep(2)\n",
    "        driver.get(Instagram)#Im trying this the home to wait to Instagram to make the bot look more human\n",
    "        position = \"Instagram Page\"\n",
    "        \n",
    "    def SignUp(self):\n",
    "        assert self.position == \"Instagram Page\", \"Where do I sign up?\"\n",
    "        \n",
    "        driver.find_element_by_xpath(\"/html/body/span/section/main/article/div[2]/div[1]/div/form/div[3]/div/label/input\").send_keys(self.email) #This is the mobile number/ email section\n",
    "        time.sleep(time.sleep(random.randint(3,5)))\n",
    "        driver.find_element_by_xpath(\"/html/body/span/section/main/article/div[2]/div[1]/div/form/div[4]/div/label/input\").send_keys(self.name)\n",
    "        time.sleep(time.sleep(random.randint(3,5)))\n",
    "        driver.find_element_by_xpath(\"/html/body/span/section/main/article/div[2]/div[1]/div/form/div[5]/div/label/input\").send_keys(self.username)\n",
    "        time.sleep(time.sleep(random.randint(3,5)))\n",
    "        driver.find_element_by_xpath(\"/html/body/span/section/main/article/div[2]/div[1]/div/form/div[6]/div/label/input\").send_keys(self.password)\n",
    "        time.sleep(time.sleep(random.randint(3,5)))\n",
    "        driver.find_element_by_xpath(\"/html/body/span/section/main/article/div[2]/div[1]/div/form/div[7]/div/button\").click()\n",
    "        time.sleep(time.sleep(random.randint(3,5)))\n",
    "        self.position = \"Right After Sign Up\"\n",
    "        \n",
    "        \n",
    "    def Login(self):\n",
    "        assert self.position == \"Instagram Page\", \"Where do I log in?\"\n",
    "        time.sleep(time.sleep(random.randint(3,5)))\n",
    "        driver.find_element_by_xpath(\"/html/body/span/section/main/article/div[2]/div[2]/p/a\").click()\n",
    "        time.sleep(time.sleep(random.randint(3,5)))\n",
    "        self.position = \"Login Screen\"\n",
    "        driver.find_element_by_xpath(\"/html/body/span/section/main/div/article/div/div[1]/div/form/div[2]/div/label/input\").send_keys(self.email)\n",
    "        time.sleep(time.sleep(random.randint(2,8)))\n",
    "        driver.find_element_by_xpath(\"/html/body/span/section/main/div/article/div/div[1]/div/form/div[3]/div/label/input\").send_keys(self.password)\n",
    "        time.sleep(time.sleep(random.randint(3,9)))\n",
    "        driver.find_element_by_xpath(\"/html/body/span/section/main/div/article/div/div[1]/div/form/div[4]/button/div\").click()\n",
    "        time.sleep(time.sleep(random.randint(3,5)))\n",
    "        self.position = \"Inside Account\"\n",
    "        \n",
    "    def post(self, POST):\n",
    "        assert self.position == \"Inside Account\", \"Post where?\""
   ]
  },
  {
   "cell_type": "code",
   "execution_count": null,
   "metadata": {},
   "outputs": [],
   "source": []
  }
 ],
 "metadata": {
  "kernelspec": {
   "display_name": "Python 3",
   "language": "python",
   "name": "python3"
  },
  "language_info": {
   "codemirror_mode": {
    "name": "ipython",
    "version": 3
   },
   "file_extension": ".py",
   "mimetype": "text/x-python",
   "name": "python",
   "nbconvert_exporter": "python",
   "pygments_lexer": "ipython3",
   "version": "3.7.1"
  }
 },
 "nbformat": 4,
 "nbformat_minor": 2
}
